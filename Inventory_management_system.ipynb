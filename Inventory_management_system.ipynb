{
  "nbformat": 4,
  "nbformat_minor": 0,
  "metadata": {
    "colab": {
      "name": "Inventory management system.ipynb",
      "provenance": [],
      "collapsed_sections": []
    },
    "kernelspec": {
      "name": "python3",
      "display_name": "Python 3"
    },
    "language_info": {
      "name": "python"
    }
  },
  "cells": [
    {
      "cell_type": "markdown",
      "metadata": {
        "id": "42Of9Rwn0SSh"
      },
      "source": [
        "# Creating the inventory\n"
      ]
    },
    {
      "cell_type": "code",
      "metadata": {
        "id": "1P5Dg9hjaFp_"
      },
      "source": [
        "items={\n",
        "    1001:{'mobile':'realme 2 pro','price':10999,'color':'Diamond Blue','RAM':'4GB','ROM':'64GB','quantity':50,'Rating':4.5},\n",
        "    1002:{'mobile':'realme 2','price':15999,'color':'Diamond Black','RAM':'12GB','ROM':'64GB','quantity':10,'Rating':4.3},\n",
        "    1003:{'mobile':'realme X2 pro','price':31999,'color':'Lunar White','RAM':'8GB','ROM':'128GB','quantity':45,'Rating':4.5},\n",
        "    1004:{'mobile':'realme 7 pro','price':17999,'color':'Mirror Silver','RAM':'8GB','ROM':'128GB','quantity':9,'Rating':4.4},\n",
        "    1005:{'mobile':'realme X7 pro 5G','price':26999,'color':'Mystic Black','RAM':'8GB','ROM':'128GB','quantity':100,'Rating':4.3},\n",
        "    1006:{'mobile':'Samsung Galaxy M31','price':16674,'color':'Space Black','RAM':'6GB','ROM':'64GB','quantity':43,'Rating':4.5},\n",
        "    1007:{'mobile':'Samsung M02s','price':9975,'color':'Blue','RAM':'2GB','ROM':'32GB','quantity':8,'Rating':4.2},\n",
        "    1008:{'mobile':'Samsung Galaxy A22','price':18499,'color':'Black','RAM':'6GB','ROM':'128GB','quantity':15,'Rating':4.3},\n",
        "    1009:{'mobile':'Samsung M21 2021 Edition','price':13210,'color':'Arctic Blue','RAM':'4GB','ROM':'64GB','quantity':47,'Rating':4.2},\n",
        "    1010:{'mobile':'Samsung Galaxy M21','price':16499,'color':'Black','RAM':'6GB','ROM':'64GB','quantity':8,'Rating':4.4},\n",
        "    1011:{'mobile':'Infinix Smart 5A','price':6999,'color':'Ocean Wave','RAM':'4GB','ROM':'64GB','quantity':18,'Rating':4.2},\n",
        "    1012:{'mobile':'Infinix Smart 5','price':7499,'color':'7 Purple','RAM':'2GB','ROM':'32GB','quantity':100,'Rating':4.3},\n",
        "    1013:{'mobile':'Infinix Note 10','price':12499,'color':'Emerald Green','RAM':'8GB','ROM':'128GB','quantity':150,'Rating':4.2},\n",
        "    1014:{'mobile':'Infinix Zero 8i','price':15999,'color':'Silver Diamond','RAM':'6GB','ROM':'128GB','quantity':12,'Rating':4.2},\n",
        "    1015:{'mobile':'Infinix Smart HD 2021','price':7599,'color':'Quartz Green','RAM':'4GB','ROM':'32GB','quantity':25,'Rating':4.3},\n",
        "    1016:{'mobile':'APPLE iPhone SE','price':34999,'color':'Black','RAM':'8GB','ROM':'128GB','quantity':5,'Rating':4.5},\n",
        "    1017:{'mobile':'Apple iPhone 12','price':66999,'color':'Black','RAM':'4GB','ROM':'64GB','quantity':12,'Rating':4.6},\n",
        "    1018:{'mobile':'Apple iPhone 12 Pro Max','price':135900,'color':'Pacific Blue','RAM':'12GB','ROM':'256GB','quantity':5,'Rating':4.6},\n",
        "    1019:{'mobile':'Apple iPhone XR (PRODUCT) RED','price':42999,'color':'Red','RAM':'4GB','ROM':'64GB','quantity':28,'Rating':4.6},\n",
        "    1020:{'mobile':'Apple iPhone 11','price':58999,'color':'Purple','RAM':'8GB','ROM':'128GB','quantity':12,'Rating':4.6},\n",
        "    1021:{'mobile':'Redmi Note 9 pro','price':15894,'color':'Glacier White','RAM':'4GB','ROM':'64GB','quantity':20,'Rating':4.4},\n",
        "    1022:{'mobile':'Redmi Note 7S','price':13999,'color':'Ruby Red','RAM':'4GB','ROM':'64GB','quantity':9,'Rating':4.4},\n",
        "    1023:{'mobile':'Redmi 9 Prime','price':13150,'color':'Sunrise Flare','RAM':'8GB','ROM':'128GB','quantity':16,'Rating':4.4},\n",
        "    1024:{'mobile':'Redmi Note 9 pro MAX','price':21899,'color':'Aurora Blue','RAM':'6GB','ROM':'128GB','quantity':30,'Rating':4.4},\n",
        "    1025:{'mobile':'Redmi Note 10 pro','price':20798,'color':'Vintage Bronze','RAM':'8GB','ROM':'128GB','quantity':1,'Rating':4.3},\n",
        "    1026:{'mobile':'Vivo V20 SE','price':22999,'color':'Aquamarine Green','RAM':'8GB','ROM':'128GB','quantity':15,'Rating':4.3},\n",
        "    1027:{'mobile':'Vivo V20 Pro','price':27680,'color':'Sunset Melody','RAM':'8GB','ROM':'128GB','quantity':18,'Rating':4.4},\n",
        "    1028:{'mobile':'Vivo V17','price':27990,'color':'Glacier ice','RAM':'12GB','ROM':'128GB','quantity':14,'Rating':4.5},\n",
        "    1029:{'mobile':'Vivo V19','price':29990,'color':'Mystic Silver','RAM':'8GB','ROM':'128GB','quantity':60,'Rating':4.4},\n",
        "    1030:{'mobile':'Vivo X60 pro','price':49990,'color':'Shimmer Blue','RAM':'12GB','ROM':'128GB','quantity':15,'Rating':4.4}\n",
        "}"
      ],
      "execution_count": 20,
      "outputs": []
    },
    {
      "cell_type": "code",
      "metadata": {
        "colab": {
          "base_uri": "https://localhost:8080/"
        },
        "id": "bkc0rslnMDnI",
        "outputId": "3c076a5a-31cd-455b-bc69-083ccb4fd3c8"
      },
      "source": [
        "items.keys()"
      ],
      "execution_count": 21,
      "outputs": [
        {
          "output_type": "execute_result",
          "data": {
            "text/plain": [
              "dict_keys([1001, 1002, 1003, 1004, 1005, 1006, 1007, 1008, 1009, 1010, 1011, 1012, 1013, 1014, 1015, 1016, 1017, 1018, 1019, 1020, 1021, 1022, 1023, 1024, 1025, 1026, 1027, 1028, 1029, 1030])"
            ]
          },
          "metadata": {},
          "execution_count": 21
        }
      ]
    },
    {
      "cell_type": "code",
      "metadata": {
        "colab": {
          "base_uri": "https://localhost:8080/"
        },
        "id": "Gcr77Tb9MHLD",
        "outputId": "14821db4-1cd1-42c9-cc48-2cd83b61c3b2"
      },
      "source": [
        "items.values()"
      ],
      "execution_count": 22,
      "outputs": [
        {
          "output_type": "execute_result",
          "data": {
            "text/plain": [
              "dict_values([{'mobile': 'realme 2 pro', 'price': 10999, 'color': 'Diamond Blue', 'RAM': '4GB', 'ROM': '64GB', 'quantity': 50, 'Rating': 4.5}, {'mobile': 'realme 2', 'price': 15999, 'color': 'Diamond Black', 'RAM': '12GB', 'ROM': '64GB', 'quantity': 10, 'Rating': 4.3}, {'mobile': 'realme X2 pro', 'price': 31999, 'color': 'Lunar White', 'RAM': '8GB', 'ROM': '128GB', 'quantity': 45, 'Rating': 4.5}, {'mobile': 'realme 7 pro', 'price': 17999, 'color': 'Mirror Silver', 'RAM': '8GB', 'ROM': '128GB', 'quantity': 9, 'Rating': 4.4}, {'mobile': 'realme X7 pro 5G', 'price': 26999, 'color': 'Mystic Black', 'RAM': '8GB', 'ROM': '128GB', 'quantity': 100, 'Rating': 4.3}, {'mobile': 'Samsung Galaxy M31', 'price': 16674, 'color': 'Space Black', 'RAM': '6GB', 'ROM': '64GB', 'quantity': 43, 'Rating': 4.5}, {'mobile': 'Samsung M02s', 'price': 9975, 'color': 'Blue', 'RAM': '2GB', 'ROM': '32GB', 'quantity': 8, 'Rating': 4.2}, {'mobile': 'Samsung Galaxy A22', 'price': 18499, 'color': 'Black', 'RAM': '6GB', 'ROM': '128GB', 'quantity': 15, 'Rating': 4.3}, {'mobile': 'Samsung M21 2021 Edition', 'price': 13210, 'color': 'Arctic Blue', 'RAM': '4GB', 'ROM': '64GB', 'quantity': 47, 'Rating': 4.2}, {'mobile': 'Samsung Galaxy M21', 'price': 16499, 'color': 'Black', 'RAM': '6GB', 'ROM': '64GB', 'quantity': 8, 'Rating': 4.4}, {'mobile': 'Infinix Smart 5A', 'price': 6999, 'color': 'Ocean Wave', 'RAM': '4GB', 'ROM': '64GB', 'quantity': 18, 'Rating': 4.2}, {'mobile': 'Infinix Smart 5', 'price': 7499, 'color': '7 Purple', 'RAM': '2GB', 'ROM': '32GB', 'quantity': 100, 'Rating': 4.3}, {'mobile': 'Infinix Note 10', 'price': 12499, 'color': 'Emerald Green', 'RAM': '8GB', 'ROM': '128GB', 'quantity': 150, 'Rating': 4.2}, {'mobile': 'Infinix Zero 8i', 'price': 15999, 'color': 'Silver Diamond', 'RAM': '6GB', 'ROM': '128GB', 'quantity': 12, 'Rating': 4.2}, {'mobile': 'Infinix Smart HD 2021', 'price': 7599, 'color': 'Quartz Green', 'RAM': '4GB', 'ROM': '32GB', 'quantity': 25, 'Rating': 4.3}, {'mobile': 'APPLE iPhone SE', 'price': 34999, 'color': 'Black', 'RAM': '8GB', 'ROM': '128GB', 'quantity': 5, 'Rating': 4.5}, {'mobile': 'Apple iPhone 12', 'price': 66999, 'color': 'Black', 'RAM': '4GB', 'ROM': '64GB', 'quantity': 12, 'Rating': 4.6}, {'mobile': 'Apple iPhone 12 Pro Max', 'price': 135900, 'color': 'Pacific Blue', 'RAM': '12GB', 'ROM': '256GB', 'quantity': 5, 'Rating': 4.6}, {'mobile': 'Apple iPhone XR (PRODUCT) RED', 'price': 42999, 'color': 'Red', 'RAM': '4GB', 'ROM': '64GB', 'quantity': 28, 'Rating': 4.6}, {'mobile': 'Apple iPhone 11', 'price': 58999, 'color': 'Purple', 'RAM': '8GB', 'ROM': '128GB', 'quantity': 12, 'Rating': 4.6}, {'mobile': 'Redmi Note 9 pro', 'price': 15894, 'color': 'Glacier White', 'RAM': '4GB', 'ROM': '64GB', 'quantity': 20, 'Rating': 4.4}, {'mobile': 'Redmi Note 7S', 'price': 13999, 'color': 'Ruby Red', 'RAM': '4GB', 'ROM': '64GB', 'quantity': 9, 'Rating': 4.4}, {'mobile': 'Redmi 9 Prime', 'price': 13150, 'color': 'Sunrise Flare', 'RAM': '8GB', 'ROM': '128GB', 'quantity': 16, 'Rating': 4.4}, {'mobile': 'Redmi Note 9 pro MAX', 'price': 21899, 'color': 'Aurora Blue', 'RAM': '6GB', 'ROM': '128GB', 'quantity': 30, 'Rating': 4.4}, {'mobile': 'Redmi Note 10 pro', 'price': 20798, 'color': 'Vintage Bronze', 'RAM': '8GB', 'ROM': '128GB', 'quantity': 1, 'Rating': 4.3}, {'mobile': 'Vivo V20 SE', 'price': 22999, 'color': 'Aquamarine Green', 'RAM': '8GB', 'ROM': '128GB', 'quantity': 15, 'Rating': 4.3}, {'mobile': 'Vivo V20 Pro', 'price': 27680, 'color': 'Sunset Melody', 'RAM': '8GB', 'ROM': '128GB', 'quantity': 18, 'Rating': 4.4}, {'mobile': 'Vivo V17', 'price': 27990, 'color': 'Glacier ice', 'RAM': '12GB', 'ROM': '128GB', 'quantity': 14, 'Rating': 4.5}, {'mobile': 'Vivo V19', 'price': 29990, 'color': 'Mystic Silver', 'RAM': '8GB', 'ROM': '128GB', 'quantity': 60, 'Rating': 4.4}, {'mobile': 'Vivo X60 pro', 'price': 49990, 'color': 'Shimmer Blue', 'RAM': '12GB', 'ROM': '128GB', 'quantity': 15, 'Rating': 4.4}])"
            ]
          },
          "metadata": {},
          "execution_count": 22
        }
      ]
    },
    {
      "cell_type": "markdown",
      "metadata": {
        "id": "3QF5qXKL0azX"
      },
      "source": [
        "# Checking for the product"
      ]
    },
    {
      "cell_type": "code",
      "metadata": {
        "colab": {
          "base_uri": "https://localhost:8080/"
        },
        "id": "71uMQZGdHDWf",
        "outputId": "ea5d27d1-274e-4373-f422-b701bd1608f6"
      },
      "source": [
        "product_id=1022\n",
        "\n",
        "print('Mobile Name :',items[product_id]['mobile'])\n",
        "print('Mobile Price :',items[product_id]['price'])\n",
        "print('Mobile Color :',items[product_id]['color'])\n",
        "print('RAM :',items[product_id]['RAM'])\n",
        "print('ROM :',items[product_id]['ROM'])\n",
        "print('No. of mobiles in stock :',items[product_id]['quantity'])\n",
        "print('Rating for mobile :',items[product_id]['Rating'])"
      ],
      "execution_count": 23,
      "outputs": [
        {
          "output_type": "stream",
          "name": "stdout",
          "text": [
            "Mobile Name : Redmi Note 7S\n",
            "Mobile Price : 13999\n",
            "Mobile Color : Ruby Red\n",
            "RAM : 4GB\n",
            "ROM : 64GB\n",
            "No. of mobiles in stock : 9\n",
            "Rating for mobile : 4.4\n"
          ]
        }
      ]
    },
    {
      "cell_type": "code",
      "metadata": {
        "id": "MmOzSJFALsND"
      },
      "source": [
        "import json"
      ],
      "execution_count": 24,
      "outputs": []
    },
    {
      "cell_type": "code",
      "metadata": {
        "id": "vdr9BmlZLuOu"
      },
      "source": [
        "fi=json.dumps(items)"
      ],
      "execution_count": 25,
      "outputs": []
    },
    {
      "cell_type": "code",
      "metadata": {
        "colab": {
          "base_uri": "https://localhost:8080/",
          "height": 191
        },
        "id": "yO5Fq8AVLzuE",
        "outputId": "6322655d-ec1d-4707-e8d8-a8e846660f6a"
      },
      "source": [
        "fi"
      ],
      "execution_count": 26,
      "outputs": [
        {
          "output_type": "execute_result",
          "data": {
            "application/vnd.google.colaboratory.intrinsic+json": {
              "type": "string"
            },
            "text/plain": [
              "'{\"1001\": {\"mobile\": \"realme 2 pro\", \"price\": 10999, \"color\": \"Diamond Blue\", \"RAM\": \"4GB\", \"ROM\": \"64GB\", \"quantity\": 50, \"Rating\": 4.5}, \"1002\": {\"mobile\": \"realme 2\", \"price\": 15999, \"color\": \"Diamond Black\", \"RAM\": \"12GB\", \"ROM\": \"64GB\", \"quantity\": 10, \"Rating\": 4.3}, \"1003\": {\"mobile\": \"realme X2 pro\", \"price\": 31999, \"color\": \"Lunar White\", \"RAM\": \"8GB\", \"ROM\": \"128GB\", \"quantity\": 45, \"Rating\": 4.5}, \"1004\": {\"mobile\": \"realme 7 pro\", \"price\": 17999, \"color\": \"Mirror Silver\", \"RAM\": \"8GB\", \"ROM\": \"128GB\", \"quantity\": 9, \"Rating\": 4.4}, \"1005\": {\"mobile\": \"realme X7 pro 5G\", \"price\": 26999, \"color\": \"Mystic Black\", \"RAM\": \"8GB\", \"ROM\": \"128GB\", \"quantity\": 100, \"Rating\": 4.3}, \"1006\": {\"mobile\": \"Samsung Galaxy M31\", \"price\": 16674, \"color\": \"Space Black\", \"RAM\": \"6GB\", \"ROM\": \"64GB\", \"quantity\": 43, \"Rating\": 4.5}, \"1007\": {\"mobile\": \"Samsung M02s\", \"price\": 9975, \"color\": \"Blue\", \"RAM\": \"2GB\", \"ROM\": \"32GB\", \"quantity\": 8, \"Rating\": 4.2}, \"1008\": {\"mobile\": \"Samsung Galaxy A22\", \"price\": 18499, \"color\": \"Black\", \"RAM\": \"6GB\", \"ROM\": \"128GB\", \"quantity\": 15, \"Rating\": 4.3}, \"1009\": {\"mobile\": \"Samsung M21 2021 Edition\", \"price\": 13210, \"color\": \"Arctic Blue\", \"RAM\": \"4GB\", \"ROM\": \"64GB\", \"quantity\": 47, \"Rating\": 4.2}, \"1010\": {\"mobile\": \"Samsung Galaxy M21\", \"price\": 16499, \"color\": \"Black\", \"RAM\": \"6GB\", \"ROM\": \"64GB\", \"quantity\": 8, \"Rating\": 4.4}, \"1011\": {\"mobile\": \"Infinix Smart 5A\", \"price\": 6999, \"color\": \"Ocean Wave\", \"RAM\": \"4GB\", \"ROM\": \"64GB\", \"quantity\": 18, \"Rating\": 4.2}, \"1012\": {\"mobile\": \"Infinix Smart 5\", \"price\": 7499, \"color\": \"7 Purple\", \"RAM\": \"2GB\", \"ROM\": \"32GB\", \"quantity\": 100, \"Rating\": 4.3}, \"1013\": {\"mobile\": \"Infinix Note 10\", \"price\": 12499, \"color\": \"Emerald Green\", \"RAM\": \"8GB\", \"ROM\": \"128GB\", \"quantity\": 150, \"Rating\": 4.2}, \"1014\": {\"mobile\": \"Infinix Zero 8i\", \"price\": 15999, \"color\": \"Silver Diamond\", \"RAM\": \"6GB\", \"ROM\": \"128GB\", \"quantity\": 12, \"Rating\": 4.2}, \"1015\": {\"mobile\": \"Infinix Smart HD 2021\", \"price\": 7599, \"color\": \"Quartz Green\", \"RAM\": \"4GB\", \"ROM\": \"32GB\", \"quantity\": 25, \"Rating\": 4.3}, \"1016\": {\"mobile\": \"APPLE iPhone SE\", \"price\": 34999, \"color\": \"Black\", \"RAM\": \"8GB\", \"ROM\": \"128GB\", \"quantity\": 5, \"Rating\": 4.5}, \"1017\": {\"mobile\": \"Apple iPhone 12\", \"price\": 66999, \"color\": \"Black\", \"RAM\": \"4GB\", \"ROM\": \"64GB\", \"quantity\": 12, \"Rating\": 4.6}, \"1018\": {\"mobile\": \"Apple iPhone 12 Pro Max\", \"price\": 135900, \"color\": \"Pacific Blue\", \"RAM\": \"12GB\", \"ROM\": \"256GB\", \"quantity\": 5, \"Rating\": 4.6}, \"1019\": {\"mobile\": \"Apple iPhone XR (PRODUCT) RED\", \"price\": 42999, \"color\": \"Red\", \"RAM\": \"4GB\", \"ROM\": \"64GB\", \"quantity\": 28, \"Rating\": 4.6}, \"1020\": {\"mobile\": \"Apple iPhone 11\", \"price\": 58999, \"color\": \"Purple\", \"RAM\": \"8GB\", \"ROM\": \"128GB\", \"quantity\": 12, \"Rating\": 4.6}, \"1021\": {\"mobile\": \"Redmi Note 9 pro\", \"price\": 15894, \"color\": \"Glacier White\", \"RAM\": \"4GB\", \"ROM\": \"64GB\", \"quantity\": 20, \"Rating\": 4.4}, \"1022\": {\"mobile\": \"Redmi Note 7S\", \"price\": 13999, \"color\": \"Ruby Red\", \"RAM\": \"4GB\", \"ROM\": \"64GB\", \"quantity\": 9, \"Rating\": 4.4}, \"1023\": {\"mobile\": \"Redmi 9 Prime\", \"price\": 13150, \"color\": \"Sunrise Flare\", \"RAM\": \"8GB\", \"ROM\": \"128GB\", \"quantity\": 16, \"Rating\": 4.4}, \"1024\": {\"mobile\": \"Redmi Note 9 pro MAX\", \"price\": 21899, \"color\": \"Aurora Blue\", \"RAM\": \"6GB\", \"ROM\": \"128GB\", \"quantity\": 30, \"Rating\": 4.4}, \"1025\": {\"mobile\": \"Redmi Note 10 pro\", \"price\": 20798, \"color\": \"Vintage Bronze\", \"RAM\": \"8GB\", \"ROM\": \"128GB\", \"quantity\": 1, \"Rating\": 4.3}, \"1026\": {\"mobile\": \"Vivo V20 SE\", \"price\": 22999, \"color\": \"Aquamarine Green\", \"RAM\": \"8GB\", \"ROM\": \"128GB\", \"quantity\": 15, \"Rating\": 4.3}, \"1027\": {\"mobile\": \"Vivo V20 Pro\", \"price\": 27680, \"color\": \"Sunset Melody\", \"RAM\": \"8GB\", \"ROM\": \"128GB\", \"quantity\": 18, \"Rating\": 4.4}, \"1028\": {\"mobile\": \"Vivo V17\", \"price\": 27990, \"color\": \"Glacier ice\", \"RAM\": \"12GB\", \"ROM\": \"128GB\", \"quantity\": 14, \"Rating\": 4.5}, \"1029\": {\"mobile\": \"Vivo V19\", \"price\": 29990, \"color\": \"Mystic Silver\", \"RAM\": \"8GB\", \"ROM\": \"128GB\", \"quantity\": 60, \"Rating\": 4.4}, \"1030\": {\"mobile\": \"Vivo X60 pro\", \"price\": 49990, \"color\": \"Shimmer Blue\", \"RAM\": \"12GB\", \"ROM\": \"128GB\", \"quantity\": 15, \"Rating\": 4.4}}'"
            ]
          },
          "metadata": {},
          "execution_count": 26
        }
      ]
    },
    {
      "cell_type": "code",
      "metadata": {
        "colab": {
          "base_uri": "https://localhost:8080/"
        },
        "id": "8yblM7yYL1Hp",
        "outputId": "0428610c-2094-4ba7-c1f9-febcf629e831"
      },
      "source": [
        "type(items)"
      ],
      "execution_count": 27,
      "outputs": [
        {
          "output_type": "execute_result",
          "data": {
            "text/plain": [
              "dict"
            ]
          },
          "metadata": {},
          "execution_count": 27
        }
      ]
    },
    {
      "cell_type": "code",
      "metadata": {
        "id": "cpV8H7sYL6RK"
      },
      "source": [
        "fd = open(\"items.json\",'w')\n",
        "\n",
        "fd.write(fi)\n",
        "\n",
        "fd.close()"
      ],
      "execution_count": 28,
      "outputs": []
    },
    {
      "cell_type": "code",
      "metadata": {
        "id": "T_cTNc7OMmfV"
      },
      "source": [
        "fd = open(\"items.json\",'r')\n",
        "\n",
        "js=fd.read()\n",
        "\n",
        "fd.close()"
      ],
      "execution_count": 29,
      "outputs": []
    },
    {
      "cell_type": "code",
      "metadata": {
        "colab": {
          "base_uri": "https://localhost:8080/",
          "height": 191
        },
        "id": "plt0t1NUMxAA",
        "outputId": "615b5ffc-5363-48ac-c381-fa5e77051b00"
      },
      "source": [
        "js"
      ],
      "execution_count": 30,
      "outputs": [
        {
          "output_type": "execute_result",
          "data": {
            "application/vnd.google.colaboratory.intrinsic+json": {
              "type": "string"
            },
            "text/plain": [
              "'{\"1001\": {\"mobile\": \"realme 2 pro\", \"price\": 10999, \"color\": \"Diamond Blue\", \"RAM\": \"4GB\", \"ROM\": \"64GB\", \"quantity\": 50, \"Rating\": 4.5}, \"1002\": {\"mobile\": \"realme 2\", \"price\": 15999, \"color\": \"Diamond Black\", \"RAM\": \"12GB\", \"ROM\": \"64GB\", \"quantity\": 10, \"Rating\": 4.3}, \"1003\": {\"mobile\": \"realme X2 pro\", \"price\": 31999, \"color\": \"Lunar White\", \"RAM\": \"8GB\", \"ROM\": \"128GB\", \"quantity\": 45, \"Rating\": 4.5}, \"1004\": {\"mobile\": \"realme 7 pro\", \"price\": 17999, \"color\": \"Mirror Silver\", \"RAM\": \"8GB\", \"ROM\": \"128GB\", \"quantity\": 9, \"Rating\": 4.4}, \"1005\": {\"mobile\": \"realme X7 pro 5G\", \"price\": 26999, \"color\": \"Mystic Black\", \"RAM\": \"8GB\", \"ROM\": \"128GB\", \"quantity\": 100, \"Rating\": 4.3}, \"1006\": {\"mobile\": \"Samsung Galaxy M31\", \"price\": 16674, \"color\": \"Space Black\", \"RAM\": \"6GB\", \"ROM\": \"64GB\", \"quantity\": 43, \"Rating\": 4.5}, \"1007\": {\"mobile\": \"Samsung M02s\", \"price\": 9975, \"color\": \"Blue\", \"RAM\": \"2GB\", \"ROM\": \"32GB\", \"quantity\": 8, \"Rating\": 4.2}, \"1008\": {\"mobile\": \"Samsung Galaxy A22\", \"price\": 18499, \"color\": \"Black\", \"RAM\": \"6GB\", \"ROM\": \"128GB\", \"quantity\": 15, \"Rating\": 4.3}, \"1009\": {\"mobile\": \"Samsung M21 2021 Edition\", \"price\": 13210, \"color\": \"Arctic Blue\", \"RAM\": \"4GB\", \"ROM\": \"64GB\", \"quantity\": 47, \"Rating\": 4.2}, \"1010\": {\"mobile\": \"Samsung Galaxy M21\", \"price\": 16499, \"color\": \"Black\", \"RAM\": \"6GB\", \"ROM\": \"64GB\", \"quantity\": 8, \"Rating\": 4.4}, \"1011\": {\"mobile\": \"Infinix Smart 5A\", \"price\": 6999, \"color\": \"Ocean Wave\", \"RAM\": \"4GB\", \"ROM\": \"64GB\", \"quantity\": 18, \"Rating\": 4.2}, \"1012\": {\"mobile\": \"Infinix Smart 5\", \"price\": 7499, \"color\": \"7 Purple\", \"RAM\": \"2GB\", \"ROM\": \"32GB\", \"quantity\": 100, \"Rating\": 4.3}, \"1013\": {\"mobile\": \"Infinix Note 10\", \"price\": 12499, \"color\": \"Emerald Green\", \"RAM\": \"8GB\", \"ROM\": \"128GB\", \"quantity\": 150, \"Rating\": 4.2}, \"1014\": {\"mobile\": \"Infinix Zero 8i\", \"price\": 15999, \"color\": \"Silver Diamond\", \"RAM\": \"6GB\", \"ROM\": \"128GB\", \"quantity\": 12, \"Rating\": 4.2}, \"1015\": {\"mobile\": \"Infinix Smart HD 2021\", \"price\": 7599, \"color\": \"Quartz Green\", \"RAM\": \"4GB\", \"ROM\": \"32GB\", \"quantity\": 25, \"Rating\": 4.3}, \"1016\": {\"mobile\": \"APPLE iPhone SE\", \"price\": 34999, \"color\": \"Black\", \"RAM\": \"8GB\", \"ROM\": \"128GB\", \"quantity\": 5, \"Rating\": 4.5}, \"1017\": {\"mobile\": \"Apple iPhone 12\", \"price\": 66999, \"color\": \"Black\", \"RAM\": \"4GB\", \"ROM\": \"64GB\", \"quantity\": 12, \"Rating\": 4.6}, \"1018\": {\"mobile\": \"Apple iPhone 12 Pro Max\", \"price\": 135900, \"color\": \"Pacific Blue\", \"RAM\": \"12GB\", \"ROM\": \"256GB\", \"quantity\": 5, \"Rating\": 4.6}, \"1019\": {\"mobile\": \"Apple iPhone XR (PRODUCT) RED\", \"price\": 42999, \"color\": \"Red\", \"RAM\": \"4GB\", \"ROM\": \"64GB\", \"quantity\": 28, \"Rating\": 4.6}, \"1020\": {\"mobile\": \"Apple iPhone 11\", \"price\": 58999, \"color\": \"Purple\", \"RAM\": \"8GB\", \"ROM\": \"128GB\", \"quantity\": 12, \"Rating\": 4.6}, \"1021\": {\"mobile\": \"Redmi Note 9 pro\", \"price\": 15894, \"color\": \"Glacier White\", \"RAM\": \"4GB\", \"ROM\": \"64GB\", \"quantity\": 20, \"Rating\": 4.4}, \"1022\": {\"mobile\": \"Redmi Note 7S\", \"price\": 13999, \"color\": \"Ruby Red\", \"RAM\": \"4GB\", \"ROM\": \"64GB\", \"quantity\": 9, \"Rating\": 4.4}, \"1023\": {\"mobile\": \"Redmi 9 Prime\", \"price\": 13150, \"color\": \"Sunrise Flare\", \"RAM\": \"8GB\", \"ROM\": \"128GB\", \"quantity\": 16, \"Rating\": 4.4}, \"1024\": {\"mobile\": \"Redmi Note 9 pro MAX\", \"price\": 21899, \"color\": \"Aurora Blue\", \"RAM\": \"6GB\", \"ROM\": \"128GB\", \"quantity\": 30, \"Rating\": 4.4}, \"1025\": {\"mobile\": \"Redmi Note 10 pro\", \"price\": 20798, \"color\": \"Vintage Bronze\", \"RAM\": \"8GB\", \"ROM\": \"128GB\", \"quantity\": 1, \"Rating\": 4.3}, \"1026\": {\"mobile\": \"Vivo V20 SE\", \"price\": 22999, \"color\": \"Aquamarine Green\", \"RAM\": \"8GB\", \"ROM\": \"128GB\", \"quantity\": 15, \"Rating\": 4.3}, \"1027\": {\"mobile\": \"Vivo V20 Pro\", \"price\": 27680, \"color\": \"Sunset Melody\", \"RAM\": \"8GB\", \"ROM\": \"128GB\", \"quantity\": 18, \"Rating\": 4.4}, \"1028\": {\"mobile\": \"Vivo V17\", \"price\": 27990, \"color\": \"Glacier ice\", \"RAM\": \"12GB\", \"ROM\": \"128GB\", \"quantity\": 14, \"Rating\": 4.5}, \"1029\": {\"mobile\": \"Vivo V19\", \"price\": 29990, \"color\": \"Mystic Silver\", \"RAM\": \"8GB\", \"ROM\": \"128GB\", \"quantity\": 60, \"Rating\": 4.4}, \"1030\": {\"mobile\": \"Vivo X60 pro\", \"price\": 49990, \"color\": \"Shimmer Blue\", \"RAM\": \"12GB\", \"ROM\": \"128GB\", \"quantity\": 15, \"Rating\": 4.4}}'"
            ]
          },
          "metadata": {},
          "execution_count": 30
        }
      ]
    },
    {
      "cell_type": "code",
      "metadata": {
        "id": "sJ3geDVBM2CT"
      },
      "source": [
        "items=json.loads(js)"
      ],
      "execution_count": 31,
      "outputs": []
    },
    {
      "cell_type": "code",
      "metadata": {
        "colab": {
          "base_uri": "https://localhost:8080/"
        },
        "id": "tAfQHWaCM_BQ",
        "outputId": "c249af58-b9f3-40cf-d1b2-21cb7c68b646"
      },
      "source": [
        "items"
      ],
      "execution_count": 32,
      "outputs": [
        {
          "output_type": "execute_result",
          "data": {
            "text/plain": [
              "{'1001': {'RAM': '4GB',\n",
              "  'ROM': '64GB',\n",
              "  'Rating': 4.5,\n",
              "  'color': 'Diamond Blue',\n",
              "  'mobile': 'realme 2 pro',\n",
              "  'price': 10999,\n",
              "  'quantity': 50},\n",
              " '1002': {'RAM': '12GB',\n",
              "  'ROM': '64GB',\n",
              "  'Rating': 4.3,\n",
              "  'color': 'Diamond Black',\n",
              "  'mobile': 'realme 2',\n",
              "  'price': 15999,\n",
              "  'quantity': 10},\n",
              " '1003': {'RAM': '8GB',\n",
              "  'ROM': '128GB',\n",
              "  'Rating': 4.5,\n",
              "  'color': 'Lunar White',\n",
              "  'mobile': 'realme X2 pro',\n",
              "  'price': 31999,\n",
              "  'quantity': 45},\n",
              " '1004': {'RAM': '8GB',\n",
              "  'ROM': '128GB',\n",
              "  'Rating': 4.4,\n",
              "  'color': 'Mirror Silver',\n",
              "  'mobile': 'realme 7 pro',\n",
              "  'price': 17999,\n",
              "  'quantity': 9},\n",
              " '1005': {'RAM': '8GB',\n",
              "  'ROM': '128GB',\n",
              "  'Rating': 4.3,\n",
              "  'color': 'Mystic Black',\n",
              "  'mobile': 'realme X7 pro 5G',\n",
              "  'price': 26999,\n",
              "  'quantity': 100},\n",
              " '1006': {'RAM': '6GB',\n",
              "  'ROM': '64GB',\n",
              "  'Rating': 4.5,\n",
              "  'color': 'Space Black',\n",
              "  'mobile': 'Samsung Galaxy M31',\n",
              "  'price': 16674,\n",
              "  'quantity': 43},\n",
              " '1007': {'RAM': '2GB',\n",
              "  'ROM': '32GB',\n",
              "  'Rating': 4.2,\n",
              "  'color': 'Blue',\n",
              "  'mobile': 'Samsung M02s',\n",
              "  'price': 9975,\n",
              "  'quantity': 8},\n",
              " '1008': {'RAM': '6GB',\n",
              "  'ROM': '128GB',\n",
              "  'Rating': 4.3,\n",
              "  'color': 'Black',\n",
              "  'mobile': 'Samsung Galaxy A22',\n",
              "  'price': 18499,\n",
              "  'quantity': 15},\n",
              " '1009': {'RAM': '4GB',\n",
              "  'ROM': '64GB',\n",
              "  'Rating': 4.2,\n",
              "  'color': 'Arctic Blue',\n",
              "  'mobile': 'Samsung M21 2021 Edition',\n",
              "  'price': 13210,\n",
              "  'quantity': 47},\n",
              " '1010': {'RAM': '6GB',\n",
              "  'ROM': '64GB',\n",
              "  'Rating': 4.4,\n",
              "  'color': 'Black',\n",
              "  'mobile': 'Samsung Galaxy M21',\n",
              "  'price': 16499,\n",
              "  'quantity': 8},\n",
              " '1011': {'RAM': '4GB',\n",
              "  'ROM': '64GB',\n",
              "  'Rating': 4.2,\n",
              "  'color': 'Ocean Wave',\n",
              "  'mobile': 'Infinix Smart 5A',\n",
              "  'price': 6999,\n",
              "  'quantity': 18},\n",
              " '1012': {'RAM': '2GB',\n",
              "  'ROM': '32GB',\n",
              "  'Rating': 4.3,\n",
              "  'color': '7 Purple',\n",
              "  'mobile': 'Infinix Smart 5',\n",
              "  'price': 7499,\n",
              "  'quantity': 100},\n",
              " '1013': {'RAM': '8GB',\n",
              "  'ROM': '128GB',\n",
              "  'Rating': 4.2,\n",
              "  'color': 'Emerald Green',\n",
              "  'mobile': 'Infinix Note 10',\n",
              "  'price': 12499,\n",
              "  'quantity': 150},\n",
              " '1014': {'RAM': '6GB',\n",
              "  'ROM': '128GB',\n",
              "  'Rating': 4.2,\n",
              "  'color': 'Silver Diamond',\n",
              "  'mobile': 'Infinix Zero 8i',\n",
              "  'price': 15999,\n",
              "  'quantity': 12},\n",
              " '1015': {'RAM': '4GB',\n",
              "  'ROM': '32GB',\n",
              "  'Rating': 4.3,\n",
              "  'color': 'Quartz Green',\n",
              "  'mobile': 'Infinix Smart HD 2021',\n",
              "  'price': 7599,\n",
              "  'quantity': 25},\n",
              " '1016': {'RAM': '8GB',\n",
              "  'ROM': '128GB',\n",
              "  'Rating': 4.5,\n",
              "  'color': 'Black',\n",
              "  'mobile': 'APPLE iPhone SE',\n",
              "  'price': 34999,\n",
              "  'quantity': 5},\n",
              " '1017': {'RAM': '4GB',\n",
              "  'ROM': '64GB',\n",
              "  'Rating': 4.6,\n",
              "  'color': 'Black',\n",
              "  'mobile': 'Apple iPhone 12',\n",
              "  'price': 66999,\n",
              "  'quantity': 12},\n",
              " '1018': {'RAM': '12GB',\n",
              "  'ROM': '256GB',\n",
              "  'Rating': 4.6,\n",
              "  'color': 'Pacific Blue',\n",
              "  'mobile': 'Apple iPhone 12 Pro Max',\n",
              "  'price': 135900,\n",
              "  'quantity': 5},\n",
              " '1019': {'RAM': '4GB',\n",
              "  'ROM': '64GB',\n",
              "  'Rating': 4.6,\n",
              "  'color': 'Red',\n",
              "  'mobile': 'Apple iPhone XR (PRODUCT) RED',\n",
              "  'price': 42999,\n",
              "  'quantity': 28},\n",
              " '1020': {'RAM': '8GB',\n",
              "  'ROM': '128GB',\n",
              "  'Rating': 4.6,\n",
              "  'color': 'Purple',\n",
              "  'mobile': 'Apple iPhone 11',\n",
              "  'price': 58999,\n",
              "  'quantity': 12},\n",
              " '1021': {'RAM': '4GB',\n",
              "  'ROM': '64GB',\n",
              "  'Rating': 4.4,\n",
              "  'color': 'Glacier White',\n",
              "  'mobile': 'Redmi Note 9 pro',\n",
              "  'price': 15894,\n",
              "  'quantity': 20},\n",
              " '1022': {'RAM': '4GB',\n",
              "  'ROM': '64GB',\n",
              "  'Rating': 4.4,\n",
              "  'color': 'Ruby Red',\n",
              "  'mobile': 'Redmi Note 7S',\n",
              "  'price': 13999,\n",
              "  'quantity': 9},\n",
              " '1023': {'RAM': '8GB',\n",
              "  'ROM': '128GB',\n",
              "  'Rating': 4.4,\n",
              "  'color': 'Sunrise Flare',\n",
              "  'mobile': 'Redmi 9 Prime',\n",
              "  'price': 13150,\n",
              "  'quantity': 16},\n",
              " '1024': {'RAM': '6GB',\n",
              "  'ROM': '128GB',\n",
              "  'Rating': 4.4,\n",
              "  'color': 'Aurora Blue',\n",
              "  'mobile': 'Redmi Note 9 pro MAX',\n",
              "  'price': 21899,\n",
              "  'quantity': 30},\n",
              " '1025': {'RAM': '8GB',\n",
              "  'ROM': '128GB',\n",
              "  'Rating': 4.3,\n",
              "  'color': 'Vintage Bronze',\n",
              "  'mobile': 'Redmi Note 10 pro',\n",
              "  'price': 20798,\n",
              "  'quantity': 1},\n",
              " '1026': {'RAM': '8GB',\n",
              "  'ROM': '128GB',\n",
              "  'Rating': 4.3,\n",
              "  'color': 'Aquamarine Green',\n",
              "  'mobile': 'Vivo V20 SE',\n",
              "  'price': 22999,\n",
              "  'quantity': 15},\n",
              " '1027': {'RAM': '8GB',\n",
              "  'ROM': '128GB',\n",
              "  'Rating': 4.4,\n",
              "  'color': 'Sunset Melody',\n",
              "  'mobile': 'Vivo V20 Pro',\n",
              "  'price': 27680,\n",
              "  'quantity': 18},\n",
              " '1028': {'RAM': '12GB',\n",
              "  'ROM': '128GB',\n",
              "  'Rating': 4.5,\n",
              "  'color': 'Glacier ice',\n",
              "  'mobile': 'Vivo V17',\n",
              "  'price': 27990,\n",
              "  'quantity': 14},\n",
              " '1029': {'RAM': '8GB',\n",
              "  'ROM': '128GB',\n",
              "  'Rating': 4.4,\n",
              "  'color': 'Mystic Silver',\n",
              "  'mobile': 'Vivo V19',\n",
              "  'price': 29990,\n",
              "  'quantity': 60},\n",
              " '1030': {'RAM': '12GB',\n",
              "  'ROM': '128GB',\n",
              "  'Rating': 4.4,\n",
              "  'color': 'Shimmer Blue',\n",
              "  'mobile': 'Vivo X60 pro',\n",
              "  'price': 49990,\n",
              "  'quantity': 15}}"
            ]
          },
          "metadata": {},
          "execution_count": 32
        }
      ]
    },
    {
      "cell_type": "markdown",
      "metadata": {
        "id": "0JN83iamVgjw"
      },
      "source": [
        "# Adding New item to inventory\n"
      ]
    },
    {
      "cell_type": "code",
      "metadata": {
        "colab": {
          "base_uri": "https://localhost:8080/"
        },
        "id": "fx92ub8NVfna",
        "outputId": "f1781444-4bed-4e5b-c33f-7c7ce0cb1fca"
      },
      "source": [
        "product_id=str(input('Enter the product id:'))\n",
        "mobile=str(input('Enter the name of the mobile:'))\n",
        "price=int(input('Enter the price of the mobile:'))\n",
        "color=str(input('Enter the color of the mobile:'))\n",
        "RAM=str(input('Enter the RAM of mobile:'))\n",
        "ROM=str(input('Enter the ROM of the mobile:'))\n",
        "Rating=float(input('Enter the rating of the mobile:'))\n",
        "\n",
        "items[product_id]={'mobile':mobile,'price':price,'color':color,'RAM':RAM,'ROM':ROM,'Rating':Rating}\n",
        "fi=json.dumps(items)\n",
        "\n",
        "\n"
      ],
      "execution_count": 33,
      "outputs": [
        {
          "name": "stdout",
          "output_type": "stream",
          "text": [
            "Enter the product id:1031\n",
            "Enter the name of the mobile:Vivo U20\n",
            "Enter the price of the mobile:12999\n",
            "Enter the color of the mobile:Silver\n",
            "Enter the RAM of mobile:6GB\n",
            "Enter the ROM of the mobile:64GB\n",
            "Enter the rating of the mobile:4.4\n"
          ]
        }
      ]
    },
    {
      "cell_type": "code",
      "metadata": {
        "colab": {
          "base_uri": "https://localhost:8080/"
        },
        "id": "zUXsSor4WqlO",
        "outputId": "6c2f8204-2ad4-44d5-e7cc-6fc401640d96"
      },
      "source": [
        "{product_id:{'mobile':mobile,'price':price,'color':color,'RAM':RAM,'ROM':ROM,'Rating':Rating}}"
      ],
      "execution_count": 34,
      "outputs": [
        {
          "output_type": "execute_result",
          "data": {
            "text/plain": [
              "{'1031': {'RAM': '6GB',\n",
              "  'ROM': '64GB',\n",
              "  'Rating': 4.4,\n",
              "  'color': 'Silver',\n",
              "  'mobile': 'Vivo U20',\n",
              "  'price': 12999}}"
            ]
          },
          "metadata": {},
          "execution_count": 34
        }
      ]
    },
    {
      "cell_type": "code",
      "metadata": {
        "colab": {
          "base_uri": "https://localhost:8080/"
        },
        "id": "7nyUkXW8YoE_",
        "outputId": "b2f538af-c1d2-40d6-f92b-74021bb7a1e0"
      },
      "source": [
        "items"
      ],
      "execution_count": 35,
      "outputs": [
        {
          "output_type": "execute_result",
          "data": {
            "text/plain": [
              "{'1001': {'RAM': '4GB',\n",
              "  'ROM': '64GB',\n",
              "  'Rating': 4.5,\n",
              "  'color': 'Diamond Blue',\n",
              "  'mobile': 'realme 2 pro',\n",
              "  'price': 10999,\n",
              "  'quantity': 50},\n",
              " '1002': {'RAM': '12GB',\n",
              "  'ROM': '64GB',\n",
              "  'Rating': 4.3,\n",
              "  'color': 'Diamond Black',\n",
              "  'mobile': 'realme 2',\n",
              "  'price': 15999,\n",
              "  'quantity': 10},\n",
              " '1003': {'RAM': '8GB',\n",
              "  'ROM': '128GB',\n",
              "  'Rating': 4.5,\n",
              "  'color': 'Lunar White',\n",
              "  'mobile': 'realme X2 pro',\n",
              "  'price': 31999,\n",
              "  'quantity': 45},\n",
              " '1004': {'RAM': '8GB',\n",
              "  'ROM': '128GB',\n",
              "  'Rating': 4.4,\n",
              "  'color': 'Mirror Silver',\n",
              "  'mobile': 'realme 7 pro',\n",
              "  'price': 17999,\n",
              "  'quantity': 9},\n",
              " '1005': {'RAM': '8GB',\n",
              "  'ROM': '128GB',\n",
              "  'Rating': 4.3,\n",
              "  'color': 'Mystic Black',\n",
              "  'mobile': 'realme X7 pro 5G',\n",
              "  'price': 26999,\n",
              "  'quantity': 100},\n",
              " '1006': {'RAM': '6GB',\n",
              "  'ROM': '64GB',\n",
              "  'Rating': 4.5,\n",
              "  'color': 'Space Black',\n",
              "  'mobile': 'Samsung Galaxy M31',\n",
              "  'price': 16674,\n",
              "  'quantity': 43},\n",
              " '1007': {'RAM': '2GB',\n",
              "  'ROM': '32GB',\n",
              "  'Rating': 4.2,\n",
              "  'color': 'Blue',\n",
              "  'mobile': 'Samsung M02s',\n",
              "  'price': 9975,\n",
              "  'quantity': 8},\n",
              " '1008': {'RAM': '6GB',\n",
              "  'ROM': '128GB',\n",
              "  'Rating': 4.3,\n",
              "  'color': 'Black',\n",
              "  'mobile': 'Samsung Galaxy A22',\n",
              "  'price': 18499,\n",
              "  'quantity': 15},\n",
              " '1009': {'RAM': '4GB',\n",
              "  'ROM': '64GB',\n",
              "  'Rating': 4.2,\n",
              "  'color': 'Arctic Blue',\n",
              "  'mobile': 'Samsung M21 2021 Edition',\n",
              "  'price': 13210,\n",
              "  'quantity': 47},\n",
              " '1010': {'RAM': '6GB',\n",
              "  'ROM': '64GB',\n",
              "  'Rating': 4.4,\n",
              "  'color': 'Black',\n",
              "  'mobile': 'Samsung Galaxy M21',\n",
              "  'price': 16499,\n",
              "  'quantity': 8},\n",
              " '1011': {'RAM': '4GB',\n",
              "  'ROM': '64GB',\n",
              "  'Rating': 4.2,\n",
              "  'color': 'Ocean Wave',\n",
              "  'mobile': 'Infinix Smart 5A',\n",
              "  'price': 6999,\n",
              "  'quantity': 18},\n",
              " '1012': {'RAM': '2GB',\n",
              "  'ROM': '32GB',\n",
              "  'Rating': 4.3,\n",
              "  'color': '7 Purple',\n",
              "  'mobile': 'Infinix Smart 5',\n",
              "  'price': 7499,\n",
              "  'quantity': 100},\n",
              " '1013': {'RAM': '8GB',\n",
              "  'ROM': '128GB',\n",
              "  'Rating': 4.2,\n",
              "  'color': 'Emerald Green',\n",
              "  'mobile': 'Infinix Note 10',\n",
              "  'price': 12499,\n",
              "  'quantity': 150},\n",
              " '1014': {'RAM': '6GB',\n",
              "  'ROM': '128GB',\n",
              "  'Rating': 4.2,\n",
              "  'color': 'Silver Diamond',\n",
              "  'mobile': 'Infinix Zero 8i',\n",
              "  'price': 15999,\n",
              "  'quantity': 12},\n",
              " '1015': {'RAM': '4GB',\n",
              "  'ROM': '32GB',\n",
              "  'Rating': 4.3,\n",
              "  'color': 'Quartz Green',\n",
              "  'mobile': 'Infinix Smart HD 2021',\n",
              "  'price': 7599,\n",
              "  'quantity': 25},\n",
              " '1016': {'RAM': '8GB',\n",
              "  'ROM': '128GB',\n",
              "  'Rating': 4.5,\n",
              "  'color': 'Black',\n",
              "  'mobile': 'APPLE iPhone SE',\n",
              "  'price': 34999,\n",
              "  'quantity': 5},\n",
              " '1017': {'RAM': '4GB',\n",
              "  'ROM': '64GB',\n",
              "  'Rating': 4.6,\n",
              "  'color': 'Black',\n",
              "  'mobile': 'Apple iPhone 12',\n",
              "  'price': 66999,\n",
              "  'quantity': 12},\n",
              " '1018': {'RAM': '12GB',\n",
              "  'ROM': '256GB',\n",
              "  'Rating': 4.6,\n",
              "  'color': 'Pacific Blue',\n",
              "  'mobile': 'Apple iPhone 12 Pro Max',\n",
              "  'price': 135900,\n",
              "  'quantity': 5},\n",
              " '1019': {'RAM': '4GB',\n",
              "  'ROM': '64GB',\n",
              "  'Rating': 4.6,\n",
              "  'color': 'Red',\n",
              "  'mobile': 'Apple iPhone XR (PRODUCT) RED',\n",
              "  'price': 42999,\n",
              "  'quantity': 28},\n",
              " '1020': {'RAM': '8GB',\n",
              "  'ROM': '128GB',\n",
              "  'Rating': 4.6,\n",
              "  'color': 'Purple',\n",
              "  'mobile': 'Apple iPhone 11',\n",
              "  'price': 58999,\n",
              "  'quantity': 12},\n",
              " '1021': {'RAM': '4GB',\n",
              "  'ROM': '64GB',\n",
              "  'Rating': 4.4,\n",
              "  'color': 'Glacier White',\n",
              "  'mobile': 'Redmi Note 9 pro',\n",
              "  'price': 15894,\n",
              "  'quantity': 20},\n",
              " '1022': {'RAM': '4GB',\n",
              "  'ROM': '64GB',\n",
              "  'Rating': 4.4,\n",
              "  'color': 'Ruby Red',\n",
              "  'mobile': 'Redmi Note 7S',\n",
              "  'price': 13999,\n",
              "  'quantity': 9},\n",
              " '1023': {'RAM': '8GB',\n",
              "  'ROM': '128GB',\n",
              "  'Rating': 4.4,\n",
              "  'color': 'Sunrise Flare',\n",
              "  'mobile': 'Redmi 9 Prime',\n",
              "  'price': 13150,\n",
              "  'quantity': 16},\n",
              " '1024': {'RAM': '6GB',\n",
              "  'ROM': '128GB',\n",
              "  'Rating': 4.4,\n",
              "  'color': 'Aurora Blue',\n",
              "  'mobile': 'Redmi Note 9 pro MAX',\n",
              "  'price': 21899,\n",
              "  'quantity': 30},\n",
              " '1025': {'RAM': '8GB',\n",
              "  'ROM': '128GB',\n",
              "  'Rating': 4.3,\n",
              "  'color': 'Vintage Bronze',\n",
              "  'mobile': 'Redmi Note 10 pro',\n",
              "  'price': 20798,\n",
              "  'quantity': 1},\n",
              " '1026': {'RAM': '8GB',\n",
              "  'ROM': '128GB',\n",
              "  'Rating': 4.3,\n",
              "  'color': 'Aquamarine Green',\n",
              "  'mobile': 'Vivo V20 SE',\n",
              "  'price': 22999,\n",
              "  'quantity': 15},\n",
              " '1027': {'RAM': '8GB',\n",
              "  'ROM': '128GB',\n",
              "  'Rating': 4.4,\n",
              "  'color': 'Sunset Melody',\n",
              "  'mobile': 'Vivo V20 Pro',\n",
              "  'price': 27680,\n",
              "  'quantity': 18},\n",
              " '1028': {'RAM': '12GB',\n",
              "  'ROM': '128GB',\n",
              "  'Rating': 4.5,\n",
              "  'color': 'Glacier ice',\n",
              "  'mobile': 'Vivo V17',\n",
              "  'price': 27990,\n",
              "  'quantity': 14},\n",
              " '1029': {'RAM': '8GB',\n",
              "  'ROM': '128GB',\n",
              "  'Rating': 4.4,\n",
              "  'color': 'Mystic Silver',\n",
              "  'mobile': 'Vivo V19',\n",
              "  'price': 29990,\n",
              "  'quantity': 60},\n",
              " '1030': {'RAM': '12GB',\n",
              "  'ROM': '128GB',\n",
              "  'Rating': 4.4,\n",
              "  'color': 'Shimmer Blue',\n",
              "  'mobile': 'Vivo X60 pro',\n",
              "  'price': 49990,\n",
              "  'quantity': 15},\n",
              " '1031': {'RAM': '6GB',\n",
              "  'ROM': '64GB',\n",
              "  'Rating': 4.4,\n",
              "  'color': 'Silver',\n",
              "  'mobile': 'Vivo U20',\n",
              "  'price': 12999}}"
            ]
          },
          "metadata": {},
          "execution_count": 35
        }
      ]
    },
    {
      "cell_type": "code",
      "metadata": {
        "id": "avEbjAcuZCW9"
      },
      "source": [
        "# NEW ITEM IS ADDED TO THE INVENTORY "
      ],
      "execution_count": 36,
      "outputs": []
    },
    {
      "cell_type": "markdown",
      "metadata": {
        "id": "hiIvvC5wc7Hx"
      },
      "source": [
        "# UPDATE INVENTORY AFTER PURCHASE"
      ]
    },
    {
      "cell_type": "code",
      "metadata": {
        "id": "_RMDfx8CcpDN"
      },
      "source": [
        "js = json.dumps(items)\n",
        "\n",
        "fd = open(\"items after purchasing the items.txt\",'w')\n",
        "fd.write(js)\n",
        "fd.close()"
      ],
      "execution_count": 39,
      "outputs": []
    },
    {
      "cell_type": "code",
      "metadata": {
        "id": "PHtI1ZeSZBUY"
      },
      "source": [
        ""
      ],
      "execution_count": null,
      "outputs": []
    }
  ]
}