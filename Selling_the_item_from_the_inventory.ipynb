{
  "nbformat": 4,
  "nbformat_minor": 0,
  "metadata": {
    "colab": {
      "name": "Selling the item from the inventory.ipynb",
      "provenance": [],
      "collapsed_sections": []
    },
    "kernelspec": {
      "name": "python3",
      "display_name": "Python 3"
    },
    "language_info": {
      "name": "python"
    }
  },
  "cells": [
    {
      "cell_type": "markdown",
      "metadata": {
        "id": "1NvDNAoVbUm7"
      },
      "source": [
        "# Reading the inventory"
      ]
    },
    {
      "cell_type": "code",
      "metadata": {
        "id": "Cc_nhO5ibZNC"
      },
      "source": [
        "import json\n",
        "\n",
        "fd = open(\"items.json\",'r')\n",
        "r = fd.read()\n",
        "fd.close()\n",
        "\n",
        "items = json.loads(r)"
      ],
      "execution_count": 1,
      "outputs": []
    },
    {
      "cell_type": "code",
      "metadata": {
        "colab": {
          "base_uri": "https://localhost:8080/"
        },
        "id": "_yvCZ1L6cMW-",
        "outputId": "0befcc00-1ece-4d33-c271-42feedf567ca"
      },
      "source": [
        "items"
      ],
      "execution_count": 2,
      "outputs": [
        {
          "output_type": "execute_result",
          "data": {
            "text/plain": [
              "{'1001': {'RAM': '4GB',\n",
              "  'ROM': '64GB',\n",
              "  'Rating': 4.5,\n",
              "  'color': 'Diamond Blue',\n",
              "  'mobile': 'realme 2 pro',\n",
              "  'price': 10999,\n",
              "  'quantity': 50},\n",
              " '1002': {'RAM': '12GB',\n",
              "  'ROM': '64GB',\n",
              "  'Rating': 4.3,\n",
              "  'color': 'Diamond Black',\n",
              "  'mobile': 'realme 2',\n",
              "  'price': 15999,\n",
              "  'quantity': 10},\n",
              " '1003': {'RAM': '8GB',\n",
              "  'ROM': '128GB',\n",
              "  'Rating': 4.5,\n",
              "  'color': 'Lunar White',\n",
              "  'mobile': 'realme X2 pro',\n",
              "  'price': 31999,\n",
              "  'quantity': 45},\n",
              " '1004': {'RAM': '8GB',\n",
              "  'ROM': '128GB',\n",
              "  'Rating': 4.4,\n",
              "  'color': 'Mirror Silver',\n",
              "  'mobile': 'realme 7 pro',\n",
              "  'price': 17999,\n",
              "  'quantity': 9},\n",
              " '1005': {'RAM': '8GB',\n",
              "  'ROM': '128GB',\n",
              "  'Rating': 4.3,\n",
              "  'color': 'Mystic Black',\n",
              "  'mobile': 'realme X7 pro 5G',\n",
              "  'price': 26999,\n",
              "  'quantity': 100},\n",
              " '1006': {'RAM': '6GB',\n",
              "  'ROM': '64GB',\n",
              "  'Rating': 4.5,\n",
              "  'color': 'Space Black',\n",
              "  'mobile': 'Samsung Galaxy M31',\n",
              "  'price': 16674,\n",
              "  'quantity': 43},\n",
              " '1007': {'RAM': '2GB',\n",
              "  'ROM': '32GB',\n",
              "  'Rating': 4.2,\n",
              "  'color': 'Blue',\n",
              "  'mobile': 'Samsung M02s',\n",
              "  'price': 9975,\n",
              "  'quantity': 8},\n",
              " '1008': {'RAM': '6GB',\n",
              "  'ROM': '128GB',\n",
              "  'Rating': 4.3,\n",
              "  'color': 'Black',\n",
              "  'mobile': 'Samsung Galaxy A22',\n",
              "  'price': 18499,\n",
              "  'quantity': 15},\n",
              " '1009': {'RAM': '4GB',\n",
              "  'ROM': '64GB',\n",
              "  'Rating': 4.2,\n",
              "  'color': 'Arctic Blue',\n",
              "  'mobile': 'Samsung M21 2021 Edition',\n",
              "  'price': 13210,\n",
              "  'quantity': 47},\n",
              " '1010': {'RAM': '6GB',\n",
              "  'ROM': '64GB',\n",
              "  'Rating': 4.4,\n",
              "  'color': 'Black',\n",
              "  'mobile': 'Samsung Galaxy M21',\n",
              "  'price': 16499,\n",
              "  'quantity': 8},\n",
              " '1011': {'RAM': '4GB',\n",
              "  'ROM': '64GB',\n",
              "  'Rating': 4.2,\n",
              "  'color': 'Ocean Wave',\n",
              "  'mobile': 'Infinix Smart 5A',\n",
              "  'price': 6999,\n",
              "  'quantity': 18},\n",
              " '1012': {'RAM': '2GB',\n",
              "  'ROM': '32GB',\n",
              "  'Rating': 4.3,\n",
              "  'color': '7 Purple',\n",
              "  'mobile': 'Infinix Smart 5',\n",
              "  'price': 7499,\n",
              "  'quantity': 100},\n",
              " '1013': {'RAM': '8GB',\n",
              "  'ROM': '128GB',\n",
              "  'Rating': 4.2,\n",
              "  'color': 'Emerald Green',\n",
              "  'mobile': 'Infinix Note 10',\n",
              "  'price': 12499,\n",
              "  'quantity': 150},\n",
              " '1014': {'RAM': '6GB',\n",
              "  'ROM': '128GB',\n",
              "  'Rating': 4.2,\n",
              "  'color': 'Silver Diamond',\n",
              "  'mobile': 'Infinix Zero 8i',\n",
              "  'price': 15999,\n",
              "  'quantity': 12},\n",
              " '1015': {'RAM': '4GB',\n",
              "  'ROM': '32GB',\n",
              "  'Rating': 4.3,\n",
              "  'color': 'Quartz Green',\n",
              "  'mobile': 'Infinix Smart HD 2021',\n",
              "  'price': 7599,\n",
              "  'quantity': 25},\n",
              " '1016': {'RAM': '8GB',\n",
              "  'ROM': '128GB',\n",
              "  'Rating': 4.5,\n",
              "  'color': 'Black',\n",
              "  'mobile': 'APPLE iPhone SE',\n",
              "  'price': 34999,\n",
              "  'quantity': 5},\n",
              " '1017': {'RAM': '4GB',\n",
              "  'ROM': '64GB',\n",
              "  'Rating': 4.6,\n",
              "  'color': 'Black',\n",
              "  'mobile': 'Apple iPhone 12',\n",
              "  'price': 66999,\n",
              "  'quantity': 12},\n",
              " '1018': {'RAM': '12GB',\n",
              "  'ROM': '256GB',\n",
              "  'Rating': 4.6,\n",
              "  'color': 'Pacific Blue',\n",
              "  'mobile': 'Apple iPhone 12 Pro Max',\n",
              "  'price': 135900,\n",
              "  'quantity': 5},\n",
              " '1019': {'RAM': '4GB',\n",
              "  'ROM': '64GB',\n",
              "  'Rating': 4.6,\n",
              "  'color': 'Red',\n",
              "  'mobile': 'Apple iPhone XR (PRODUCT) RED',\n",
              "  'price': 42999,\n",
              "  'quantity': 28},\n",
              " '1020': {'RAM': '8GB',\n",
              "  'ROM': '128GB',\n",
              "  'Rating': 4.6,\n",
              "  'color': 'Purple',\n",
              "  'mobile': 'Apple iPhone 11',\n",
              "  'price': 58999,\n",
              "  'quantity': 12},\n",
              " '1021': {'RAM': '4GB',\n",
              "  'ROM': '64GB',\n",
              "  'Rating': 4.4,\n",
              "  'color': 'Glacier White',\n",
              "  'mobile': 'Redmi Note 9 pro',\n",
              "  'price': 15894,\n",
              "  'quantity': 20},\n",
              " '1022': {'RAM': '4GB',\n",
              "  'ROM': '64GB',\n",
              "  'Rating': 4.4,\n",
              "  'color': 'Ruby Red',\n",
              "  'mobile': 'Redmi Note 7S',\n",
              "  'price': 13999,\n",
              "  'quantity': 9},\n",
              " '1023': {'RAM': '8GB',\n",
              "  'ROM': '128GB',\n",
              "  'Rating': 4.4,\n",
              "  'color': 'Sunrise Flare',\n",
              "  'mobile': 'Redmi 9 Prime',\n",
              "  'price': 13150,\n",
              "  'quantity': 16},\n",
              " '1024': {'RAM': '6GB',\n",
              "  'ROM': '128GB',\n",
              "  'Rating': 4.4,\n",
              "  'color': 'Aurora Blue',\n",
              "  'mobile': 'Redmi Note 9 pro MAX',\n",
              "  'price': 21899,\n",
              "  'quantity': 30},\n",
              " '1025': {'RAM': '8GB',\n",
              "  'ROM': '128GB',\n",
              "  'Rating': 4.3,\n",
              "  'color': 'Vintage Bronze',\n",
              "  'mobile': 'Redmi Note 10 pro',\n",
              "  'price': 20798,\n",
              "  'quantity': 1},\n",
              " '1026': {'RAM': '8GB',\n",
              "  'ROM': '128GB',\n",
              "  'Rating': 4.3,\n",
              "  'color': 'Aquamarine Green',\n",
              "  'mobile': 'Vivo V20 SE',\n",
              "  'price': 22999,\n",
              "  'quantity': 15},\n",
              " '1027': {'RAM': '8GB',\n",
              "  'ROM': '128GB',\n",
              "  'Rating': 4.4,\n",
              "  'color': 'Sunset Melody',\n",
              "  'mobile': 'Vivo V20 Pro',\n",
              "  'price': 27680,\n",
              "  'quantity': 18},\n",
              " '1028': {'RAM': '12GB',\n",
              "  'ROM': '128GB',\n",
              "  'Rating': 4.5,\n",
              "  'color': 'Glacier ice',\n",
              "  'mobile': 'Vivo V17',\n",
              "  'price': 27990,\n",
              "  'quantity': 14},\n",
              " '1029': {'RAM': '8GB',\n",
              "  'ROM': '128GB',\n",
              "  'Rating': 4.4,\n",
              "  'color': 'Mystic Silver',\n",
              "  'mobile': 'Vivo V19',\n",
              "  'price': 29990,\n",
              "  'quantity': 60},\n",
              " '1030': {'RAM': '12GB',\n",
              "  'ROM': '128GB',\n",
              "  'Rating': 4.4,\n",
              "  'color': 'Shimmer Blue',\n",
              "  'mobile': 'Vivo X60 pro',\n",
              "  'price': 49990,\n",
              "  'quantity': 15},\n",
              " '1031': {'RAM': '6GB',\n",
              "  'ROM': '64GB',\n",
              "  'Rating': 4.4,\n",
              "  'color': 'SILVER',\n",
              "  'mobile': 'VIVO U20',\n",
              "  'price': 12999}}"
            ]
          },
          "metadata": {},
          "execution_count": 2
        }
      ]
    },
    {
      "cell_type": "markdown",
      "metadata": {
        "id": "SyaJAV6_eSaR"
      },
      "source": [
        "# After customer  purchasing item"
      ]
    },
    {
      "cell_type": "code",
      "metadata": {
        "id": "S2q-wLB2g0LK",
        "colab": {
          "base_uri": "https://localhost:8080/"
        },
        "outputId": "5418f3d0-8042-4c58-f121-821c95887759"
      },
      "source": [
        "mobile_id= str(input('Enter the id of mobile:'))\n",
        "mobile_name=str(input('Enter the name of mobile:'))\n",
        "quant= int(input('Enter the quantity you need:'))\n",
        "\n",
        "\n",
        "print('Mobile Price :',items[mobile_id]['price'])\n",
        "print('Mobile Color :',items[mobile_id]['color'])\n",
        "print('RAM of the mobile is:',items[mobile_id]['RAM'])\n",
        "print('ROM of the mobile is:',items[mobile_id]['ROM'])\n",
        "print('Rating of the mobile is:',items[mobile_id]['Rating'])\n",
        "\n",
        "#print('Billing Amount:',items['mobile_id']*quant)\n",
        "\n"
      ],
      "execution_count": 3,
      "outputs": [
        {
          "output_type": "stream",
          "name": "stdout",
          "text": [
            "Enter the id of mobile:1029\n",
            "Enter the name of mobile:Vivo V19\n",
            "Enter the quantity you need:20\n",
            "Mobile Price : 29990\n",
            "Mobile Color : Mystic Silver\n",
            "RAM of the mobile is: 8GB\n",
            "ROM of the mobile is: 128GB\n",
            "Rating of the mobile is: 4.4\n"
          ]
        }
      ]
    },
    {
      "cell_type": "code",
      "metadata": {
        "id": "rUlDYs5JheVh",
        "colab": {
          "base_uri": "https://localhost:8080/"
        },
        "outputId": "379429c6-b73d-4d6f-fc74-5ffe35a712d5"
      },
      "source": [
        "print('Billing Amount: ',items[mobile_id]['price']*quant,'INR')\n"
      ],
      "execution_count": 4,
      "outputs": [
        {
          "output_type": "stream",
          "name": "stdout",
          "text": [
            "Billing Amount:  599800 INR\n"
          ]
        }
      ]
    },
    {
      "cell_type": "code",
      "metadata": {
        "id": "tGCKZnzrwF86"
      },
      "source": [
        "items[mobile_id]['quantity']=items[mobile_id]['quantity']-quant"
      ],
      "execution_count": 5,
      "outputs": []
    },
    {
      "cell_type": "code",
      "metadata": {
        "id": "4aR5Ez8owxpD",
        "colab": {
          "base_uri": "https://localhost:8080/"
        },
        "outputId": "77d6bfd9-31d1-4254-c4ed-1ec0444b3942"
      },
      "source": [
        "print(items[mobile_id]['quantity'])"
      ],
      "execution_count": 6,
      "outputs": [
        {
          "output_type": "stream",
          "name": "stdout",
          "text": [
            "40\n"
          ]
        }
      ]
    },
    {
      "cell_type": "markdown",
      "metadata": {
        "id": "i8ROTM_1xCSr"
      },
      "source": [
        "# Updating Inventory After selling"
      ]
    },
    {
      "cell_type": "code",
      "metadata": {
        "id": "TkPZkqzgxJmj"
      },
      "source": [
        "js=json.dumps(items)\n",
        "\n",
        "fd=open('items after selling.txt','w')\n",
        "fd.write(js)\n",
        "fd.close()"
      ],
      "execution_count": 7,
      "outputs": []
    }
  ]
}